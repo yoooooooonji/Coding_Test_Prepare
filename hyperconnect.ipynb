{
 "cells": [
  {
   "cell_type": "code",
   "execution_count": 4,
   "metadata": {},
   "outputs": [
    {
     "name": "stdout",
     "output_type": "stream",
     "text": [
      "Barkeley\n",
      "Mittens\n"
     ]
    }
   ],
   "source": [
    "# deque를 사용하기 위해 collections 모듈을 가져옵니다.\n",
    "from collections import deque\n",
    "\n",
    "# Veterinarian 클래스를 정의합니다.\n",
    "class Veterinarian:\n",
    "    def __init__(self):\n",
    "        # 이 클래스의 인스턴스가 생성될 때, self.name이라는 deque를 초기화합니다.\n",
    "        # deque는 양쪽 끝에서 빠르게 추가 및 제거가 가능한 자료구조입니다.\n",
    "        self.name = deque()\n",
    "\n",
    "    def accept(self, petName):\n",
    "        # accept 메서드는 petName을 받아서 deque의 오른쪽에 추가합니다 (즉, 대기열의 끝에 넣습니다).\n",
    "        # deque의 append 메서드는 O(1)의 시간 복잡도를 가집니다.\n",
    "        self.name.append(petName)\n",
    "\n",
    "    def heal(self):\n",
    "        # heal 메서드는 deque에서 애완동물을 \"치료\"합니다.\n",
    "        # 먼저, deque가 비어 있는지 확인합니다.\n",
    "        if not self.name:\n",
    "            # deque가 비어 있으면, 더 이상 치료할 애완동물이 없다는 의미이므로 IndexError를 발생시킵니다.\n",
    "            raise IndexError(\"IndexError\")\n",
    "        # 비어 있지 않다면, popleft 메서드를 사용하여 deque의 가장 왼쪽 요소(즉, 가장 오래 기다린 애완동물)를 제거하고 반환합니다.\n",
    "        # popleft는 O(1)의 시간 복잡도를 가지므로, 이 작업은 매우 효율적입니다.\n",
    "        return self.name.popleft()\n",
    "\n",
    "if __name__ == \"__main__\" :\n",
    "    veterinarian = Veterinarian()\n",
    "    veterinarian.accept(\"Barkeley\")\n",
    "    veterinarian.accept(\"Mittens\")\n",
    "    print(veterinarian.heal())\n",
    "    print(veterinarian.heal())"
   ]
  },
  {
   "cell_type": "code",
   "execution_count": 8,
   "metadata": {},
   "outputs": [
    {
     "name": "stdout",
     "output_type": "stream",
     "text": [
      "2\n"
     ]
    }
   ],
   "source": [
    "def nth_lowest_seelling(sales, n):\n",
    "    frequency = {}\n",
    "    for sale in sales :\n",
    "        if sale in frequency:\n",
    "            frequency[sale] += 1\n",
    "        else:\n",
    "            frequency[sale]  = 1\n",
    "    sorted_items = sorted(frequency.items(), key = lambda x:x[1], reverse = False)\n",
    "    \n",
    "    if n < len(sorted_items):\n",
    "        return sorted_items[n-1][0]\n",
    "    \n",
    "    else:\n",
    "        return None     \n",
    "\n",
    "if __name__ == \"__main__\":\n",
    "    print(nth_lowest_seelling([5,4,3,2,1,5,4,3,2,5,4,3,5,4,5,],2))"
   ]
  },
  {
   "cell_type": "code",
   "execution_count": null,
   "metadata": {},
   "outputs": [],
   "source": [
    "import heapq  # heapq 모듈은 힙 큐 알고리즘, 즉 우선순위 큐를 제공합니다.\n",
    "\n",
    "def nth_lowest_selling(sales, n):\n",
    "    # 상품의 판매 빈도를 계산합니다.\n",
    "    frequency = {}\n",
    "    for sale in sales:\n",
    "        if sale in frequency:\n",
    "            frequency[sale] += 1\n",
    "        else:\n",
    "            frequency[sale] = 1\n",
    "\n",
    "    # 최소 힙(min heap) 구조를 사용하여 상품을 판매 빈도에 따라 정렬합니다.\n",
    "    # 이렇게 하면 가장 낮은 빈도의 상품부터 쉽게 접근할 수 있습니다.\n",
    "    # heap은 (frequency, sale) 형태의 튜플로 구성됩니다.\n",
    "    heap = [(freq, sale) for sale, freq in frequency.items()]\n",
    "    heapq.heapify(heap)  # 리스트를 힙 구조로 변환합니다.\n",
    "\n",
    "    # n번째로 적게 판매된 상품을 찾기 위해 힙에서 요소를 추출합니다.\n",
    "    # 이 과정은 O(n)의 시간 복잡도를 가집니다.\n",
    "    for _ in range(n - 1):\n",
    "        if heap:\n",
    "            heapq.heappop(heap)  # 힙의 첫 번째 요소를 제거합니다.\n",
    "        else:\n",
    "            # 만약 힙(우선순위 큐)에 더 이상 요소가 없다면, None을 반환합니다.\n",
    "            return None\n",
    "\n",
    "    # n번째로 적게 판매된 상품을 반환합니다.\n",
    "    return heapq.heappop(heap)[1] if heap else None  # 힙이 비어 있지 않은 경우, 상품 이름만 반환합니다.\n",
    "\n",
    "if __name__ == \"__main__\":\n",
    "    # 세 번째로 가장 적게 판매된 상품을 찾습니다.\n",
    "    result = nth_lowest_selling([5, 4, 3, 2, 1, 5, 4, 3, 2, 5, 4, 3, 5, 4, 5], 3)\n",
    "    print(result)  # 출력: 2 (예상 결과)\n"
   ]
  }
 ],
 "metadata": {
  "kernelspec": {
   "display_name": "Python 3",
   "language": "python",
   "name": "python3"
  },
  "language_info": {
   "codemirror_mode": {
    "name": "ipython",
    "version": 3
   },
   "file_extension": ".py",
   "mimetype": "text/x-python",
   "name": "python",
   "nbconvert_exporter": "python",
   "pygments_lexer": "ipython3",
   "version": "3.9.6"
  },
  "orig_nbformat": 4
 },
 "nbformat": 4,
 "nbformat_minor": 2
}
