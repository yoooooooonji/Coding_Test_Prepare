{
 "cells": [
  {
   "cell_type": "code",
   "execution_count": 22,
   "metadata": {},
   "outputs": [
    {
     "name": "stdout",
     "output_type": "stream",
     "text": [
      "0.0 5.935284323433883 3.2905318719015626 1.4142135623730951 inf\n"
     ]
    }
   ],
   "source": [
    "import numpy as np\n",
    "\n",
    "def augmented_euclidean_dist(a, b):\n",
    "    arr_a = [a[i] for i in range(len(a)) if a[i] != -999 and b[i] != -999]\n",
    "    arr_b = [b[i] for i in range(len(b)) if a[i] != -999 and b[i] != -999]\n",
    "    \n",
    "    if len(arr_a) < 2 or len(arr_b) < 2:\n",
    "        return float('inf')\n",
    "\n",
    "    euclidean_distance = np.linalg.norm(np.array(arr_a) - np.array(arr_b))\n",
    "    return euclidean_distance\n",
    "\n",
    "\n",
    "a = np.array([1, 2, 3.5, 4.24])\n",
    "b = np.array([-999, 4, 1.2, 3])\n",
    "c = np.array([2, 1, -999, -999])\n",
    "\n",
    "t1 = augmented_euclidean_dist(a, a)\n",
    "t2 = augmented_euclidean_dist(a, 2 * a)\n",
    "t3 = augmented_euclidean_dist(a, b)\n",
    "t4 = augmented_euclidean_dist(a, c)\n",
    "t5 = augmented_euclidean_dist(b, c)\n",
    "\n",
    "print(t1,t2,t3,t4,t5)\n",
    "\n"
   ]
  },
  {
   "cell_type": "code",
   "execution_count": null,
   "metadata": {},
   "outputs": [],
   "source": [
    "# SELECT \n",
    "#     name\n",
    "#     , COALESCE(all_test_cases,0) AS all_test_cases \n",
    "#     , COALESCE(passed_test_cases,0) AS passed_test_cases\n",
    "#     , test_value * COALESCE(passed_test_cases,0) AS total_value\n",
    "\n",
    "# FROM test_groups tg\n",
    "# LEFT JOIN (\n",
    "#     SELECT\n",
    "#         group_name\n",
    "#         , count(group_name) AS all_test_cases\n",
    "#         , count(CASE WHEN status = 'OK' THEN group_name END) AS passed_test_cases\n",
    "\n",
    "#     FROM test_cases \n",
    "#     GROUP BY 1 \n",
    "# ) tc\n",
    "# ON tg.name = tc.group_name\n",
    "\n",
    "# ORDER BY 4 DESC, name ASC\n",
    "\n"
   ]
  },
  {
   "cell_type": "code",
   "execution_count": null,
   "metadata": {},
   "outputs": [],
   "source": []
  }
 ],
 "metadata": {
  "kernelspec": {
   "display_name": "Python 3",
   "language": "python",
   "name": "python3"
  },
  "language_info": {
   "codemirror_mode": {
    "name": "ipython",
    "version": 3
   },
   "file_extension": ".py",
   "mimetype": "text/x-python",
   "name": "python",
   "nbconvert_exporter": "python",
   "pygments_lexer": "ipython3",
   "version": "3.9.6"
  },
  "orig_nbformat": 4
 },
 "nbformat": 4,
 "nbformat_minor": 2
}
